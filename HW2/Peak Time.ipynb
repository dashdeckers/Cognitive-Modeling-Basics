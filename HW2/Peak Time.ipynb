{
 "cells": [
  {
   "cell_type": "code",
   "execution_count": 1,
   "metadata": {},
   "outputs": [],
   "source": [
    "import math\n",
    "import random\n",
    "import pandas as pd\n",
    "import numpy as np\n",
    "import matplotlib.pyplot as plt\n",
    "import seaborn as sns"
   ]
  },
  {
   "cell_type": "code",
   "execution_count": 2,
   "metadata": {},
   "outputs": [],
   "source": [
    "def noise(s):\n",
    "    rand = random.uniform(0.001,0.999)\n",
    "    return s * math.log((1 - rand)/rand)"
   ]
  },
  {
   "cell_type": "code",
   "execution_count": 5,
   "metadata": {},
   "outputs": [],
   "source": [
    "def time_to_pulses(time, t_0 = 0.011, a = 1.1, b = 0.015):\n",
    "    pulses = 0\n",
    "    pulse_duration = t_0\n",
    "    while time >= pulse_duration:\n",
    "        time = time - pulse_duration\n",
    "        pulses += 1\n",
    "        pulse_duration = a * pulse_duration + noise(b * a * pulse_duration)\n",
    "    return pulses"
   ]
  },
  {
   "cell_type": "code",
   "execution_count": 11,
   "metadata": {},
   "outputs": [
    {
     "data": {
      "text/plain": [
       "45"
      ]
     },
     "execution_count": 11,
     "metadata": {},
     "output_type": "execute_result"
    }
   ],
   "source": [
    "time_to_pulses(8)"
   ]
  },
  {
   "cell_type": "code",
   "execution_count": 12,
   "metadata": {},
   "outputs": [],
   "source": [
    "def pulses_to_time(pulses, t_0 = 0.011, a = 1.1, b = 0.015):\n",
    "    time = 0\n",
    "    pulse_duration = t_0\n",
    "    while pulses > 0:\n",
    "        time = time + pulse_duration\n",
    "        pulses = pulses - 1\n",
    "        pulse_duration = a * pulse_duration + noise(b * a * pulse_duration)\n",
    "    return time"
   ]
  },
  {
   "cell_type": "code",
   "execution_count": 16,
   "metadata": {},
   "outputs": [
    {
     "data": {
      "text/plain": [
       "8.068089751979269"
      ]
     },
     "execution_count": 16,
     "metadata": {},
     "output_type": "execute_result"
    }
   ],
   "source": [
    "pulses_to_time(45)"
   ]
  },
  {
   "cell_type": "code",
   "execution_count": 30,
   "metadata": {},
   "outputs": [],
   "source": [
    "def peak(t, reps = 10, n_training = 10, n_trials = 100):\n",
    "    results = pd.DataFrame(columns = ['rep', 'val'])\n",
    "    for rep in range(reps):\n",
    "        goal_pulses = 0\n",
    "        for i in range(n_training):\n",
    "            goal_pulses += time_to_pulses(t)\n",
    "        goal_pulses = goal_pulses / n_training\n",
    "        for i in range(n_trials):\n",
    "            val = pulses_to_time(goal_pulses)\n",
    "            results.loc[len(results)] = [rep, val]\n",
    "    return results['val']"
   ]
  },
  {
   "cell_type": "code",
   "execution_count": 31,
   "metadata": {},
   "outputs": [],
   "source": [
    "res8 = peak(8)\n",
    "res12 = peak(12)\n",
    "res21 = peak(21)"
   ]
  },
  {
   "cell_type": "code",
   "execution_count": 32,
   "metadata": {},
   "outputs": [
    {
     "name": "stdout",
     "output_type": "stream",
     "text": [
      "0       9.530615\n",
      "1      10.053820\n",
      "2       7.445170\n",
      "3       8.648976\n",
      "4       9.968219\n",
      "         ...    \n",
      "995     7.796084\n",
      "996     7.898107\n",
      "997     9.438392\n",
      "998     5.966215\n",
      "999     8.076310\n",
      "Name: val, Length: 1000, dtype: float64\n"
     ]
    }
   ],
   "source": [
    "print(res8)"
   ]
  },
  {
   "cell_type": "code",
   "execution_count": 33,
   "metadata": {},
   "outputs": [
    {
     "name": "stderr",
     "output_type": "stream",
     "text": [
      "/Users/niels/anaconda3/lib/python3.6/site-packages/scipy/stats/stats.py:1713: FutureWarning: Using a non-tuple sequence for multidimensional indexing is deprecated; use `arr[tuple(seq)]` instead of `arr[seq]`. In the future this will be interpreted as an array index, `arr[np.array(seq)]`, which will result either in an error or a different result.\n",
      "  \"\"\"\n"
     ]
    },
    {
     "data": {
      "text/plain": [
       "<matplotlib.axes._subplots.AxesSubplot at 0x7fd6dbd37240>"
      ]
     },
     "execution_count": 33,
     "metadata": {},
     "output_type": "execute_result"
    },
    {
     "data": {
      "image/png": "[encoded data removed]",
      "text/plain": [
       "<Figure size 432x288 with 1 Axes>"
      ]
     },
     "metadata": {},
     "output_type": "display_data"
    }
   ],
   "source": [
    "sns.kdeplot(np.array(res21), label=\"21s\")\n",
    "sns.kdeplot(np.array(res12), label=\"12s\")\n",
    "sns.kdeplot(np.array(res8), label=\"8s\")\n"
   ]
  },
  {
   "cell_type": "code",
   "execution_count": 34,
   "metadata": {},
   "outputs": [],
   "source": [
    "res21s = res21 / 21\n",
    "res12s = res12 / 12\n",
    "res8s = res8 /8"
   ]
  },
  {
   "cell_type": "code",
   "execution_count": 35,
   "metadata": {},
   "outputs": [
    {
     "name": "stderr",
     "output_type": "stream",
     "text": [
      "/Users/niels/anaconda3/lib/python3.6/site-packages/scipy/stats/stats.py:1713: FutureWarning: Using a non-tuple sequence for multidimensional indexing is deprecated; use `arr[tuple(seq)]` instead of `arr[seq]`. In the future this will be interpreted as an array index, `arr[np.array(seq)]`, which will result either in an error or a different result.\n",
      "  \"\"\"\n"
     ]
    },
    {
     "data": {
      "text/plain": [
       "<matplotlib.axes._subplots.AxesSubplot at 0x7fd6dbfeb630>"
      ]
     },
     "execution_count": 35,
     "metadata": {},
     "output_type": "execute_result"
    },
    {
     "data": {
      "image/png": "[encoded data removed]",
      "text/plain": [
       "<Figure size 432x288 with 1 Axes>"
      ]
     },
     "metadata": {},
     "output_type": "display_data"
    }
   ],
   "source": [
    "sns.kdeplot(np.array(res21s), label=\"21s\")\n",
    "sns.kdeplot(np.array(res12s), label=\"12s\")\n",
    "sns.kdeplot(np.array(res8s), label=\"8s\")\n"
   ]
  },
  {
   "cell_type": "code",
   "execution_count": null,
   "metadata": {},
   "outputs": [],
   "source": []
  }
 ],
 "metadata": {
  "kernelspec": {
   "display_name": "Python 3",
   "language": "python",
   "name": "python3"
  },
  "language_info": {
   "codemirror_mode": {
    "name": "ipython",
    "version": 3
   },
   "file_extension": ".py",
   "mimetype": "text/x-python",
   "name": "python",
   "nbconvert_exporter": "python",
   "pygments_lexer": "ipython3",
   "version": "3.8.4"
  }
 },
 "nbformat": 4,
 "nbformat_minor": 2
}
